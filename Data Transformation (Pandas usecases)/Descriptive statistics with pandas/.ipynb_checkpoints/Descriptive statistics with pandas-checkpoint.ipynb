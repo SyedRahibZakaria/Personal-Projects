{
 "cells": [
  {
   "cell_type": "markdown",
   "id": "a9edce1d",
   "metadata": {},
   "source": [
    "# Descriptive Statistics\n",
    "\n",
    "Descriptive statistics are measures that summarize important features of data, often with a single number. Producing descriptive statistics is a common first step to take after cleaning and preparing a data set for analysis. We've already seen several examples of deceptive statistics in earlier lessons, such as means and medians. In this lesson, we'll review some of these functions and explore several new ones."
   ]
  },
  {
   "cell_type": "markdown",
   "id": "70f66db9",
   "metadata": {},
   "source": [
    "## Measures of Center\n",
    "\n",
    "Measures of center are statistics that give us a sense of the \"middle\" of a numeric variable. In other words, centrality measures give you a sense of a typical value you'd expect to see. Common measures of center include the mean, median and mode.\n",
    "The mean is simply an average: the sum of the values divided by the total number of records. As we've seen in previous lessons we can use df.mean() to get the mean of each column in a DataFrame:"
   ]
  },
  {
   "cell_type": "code",
   "execution_count": 1,
   "id": "bdea6236",
   "metadata": {},
   "outputs": [],
   "source": [
    "import pandas as pd\n",
    "import matplotlib.pyplot as plt\n",
    "%matplotlib inline\n",
    "import numpy as np"
   ]
  },
  {
   "cell_type": "code",
   "execution_count": 2,
   "id": "6bbc7d63",
   "metadata": {},
   "outputs": [
    {
     "data": {
      "text/html": [
       "<div>\n",
       "<style scoped>\n",
       "    .dataframe tbody tr th:only-of-type {\n",
       "        vertical-align: middle;\n",
       "    }\n",
       "\n",
       "    .dataframe tbody tr th {\n",
       "        vertical-align: top;\n",
       "    }\n",
       "\n",
       "    .dataframe thead th {\n",
       "        text-align: right;\n",
       "    }\n",
       "</style>\n",
       "<table border=\"1\" class=\"dataframe\">\n",
       "  <thead>\n",
       "    <tr style=\"text-align: right;\">\n",
       "      <th></th>\n",
       "      <th>mpg</th>\n",
       "      <th>cyl</th>\n",
       "      <th>disp</th>\n",
       "      <th>hp</th>\n",
       "      <th>drat</th>\n",
       "      <th>wt</th>\n",
       "      <th>qsec</th>\n",
       "      <th>vs</th>\n",
       "      <th>am</th>\n",
       "      <th>gear</th>\n",
       "      <th>carb</th>\n",
       "    </tr>\n",
       "    <tr>\n",
       "      <th>model</th>\n",
       "      <th></th>\n",
       "      <th></th>\n",
       "      <th></th>\n",
       "      <th></th>\n",
       "      <th></th>\n",
       "      <th></th>\n",
       "      <th></th>\n",
       "      <th></th>\n",
       "      <th></th>\n",
       "      <th></th>\n",
       "      <th></th>\n",
       "    </tr>\n",
       "  </thead>\n",
       "  <tbody>\n",
       "    <tr>\n",
       "      <th>Mazda RX4</th>\n",
       "      <td>21.0</td>\n",
       "      <td>6</td>\n",
       "      <td>160.0</td>\n",
       "      <td>110</td>\n",
       "      <td>3.90</td>\n",
       "      <td>2.620</td>\n",
       "      <td>16.46</td>\n",
       "      <td>0</td>\n",
       "      <td>1</td>\n",
       "      <td>4</td>\n",
       "      <td>4</td>\n",
       "    </tr>\n",
       "    <tr>\n",
       "      <th>Mazda RX4 Wag</th>\n",
       "      <td>21.0</td>\n",
       "      <td>6</td>\n",
       "      <td>160.0</td>\n",
       "      <td>110</td>\n",
       "      <td>3.90</td>\n",
       "      <td>2.875</td>\n",
       "      <td>17.02</td>\n",
       "      <td>0</td>\n",
       "      <td>1</td>\n",
       "      <td>4</td>\n",
       "      <td>4</td>\n",
       "    </tr>\n",
       "    <tr>\n",
       "      <th>Datsun 710</th>\n",
       "      <td>22.8</td>\n",
       "      <td>4</td>\n",
       "      <td>108.0</td>\n",
       "      <td>93</td>\n",
       "      <td>3.85</td>\n",
       "      <td>2.320</td>\n",
       "      <td>18.61</td>\n",
       "      <td>1</td>\n",
       "      <td>1</td>\n",
       "      <td>4</td>\n",
       "      <td>1</td>\n",
       "    </tr>\n",
       "    <tr>\n",
       "      <th>Hornet 4 Drive</th>\n",
       "      <td>21.4</td>\n",
       "      <td>6</td>\n",
       "      <td>258.0</td>\n",
       "      <td>110</td>\n",
       "      <td>3.08</td>\n",
       "      <td>3.215</td>\n",
       "      <td>19.44</td>\n",
       "      <td>1</td>\n",
       "      <td>0</td>\n",
       "      <td>3</td>\n",
       "      <td>1</td>\n",
       "    </tr>\n",
       "    <tr>\n",
       "      <th>Hornet Sportabout</th>\n",
       "      <td>18.7</td>\n",
       "      <td>8</td>\n",
       "      <td>360.0</td>\n",
       "      <td>175</td>\n",
       "      <td>3.15</td>\n",
       "      <td>3.440</td>\n",
       "      <td>17.02</td>\n",
       "      <td>0</td>\n",
       "      <td>0</td>\n",
       "      <td>3</td>\n",
       "      <td>2</td>\n",
       "    </tr>\n",
       "  </tbody>\n",
       "</table>\n",
       "</div>"
      ],
      "text/plain": [
       "                    mpg  cyl   disp   hp  drat     wt   qsec  vs  am  gear  \\\n",
       "model                                                                        \n",
       "Mazda RX4          21.0    6  160.0  110  3.90  2.620  16.46   0   1     4   \n",
       "Mazda RX4 Wag      21.0    6  160.0  110  3.90  2.875  17.02   0   1     4   \n",
       "Datsun 710         22.8    4  108.0   93  3.85  2.320  18.61   1   1     4   \n",
       "Hornet 4 Drive     21.4    6  258.0  110  3.08  3.215  19.44   1   0     3   \n",
       "Hornet Sportabout  18.7    8  360.0  175  3.15  3.440  17.02   0   0     3   \n",
       "\n",
       "                   carb  \n",
       "model                    \n",
       "Mazda RX4             4  \n",
       "Mazda RX4 Wag         4  \n",
       "Datsun 710            1  \n",
       "Hornet 4 Drive        1  \n",
       "Hornet Sportabout     2  "
      ]
     },
     "execution_count": 2,
     "metadata": {},
     "output_type": "execute_result"
    }
   ],
   "source": [
    "df = pd.read_csv('mtcars.csv')\n",
    "df = df.rename(columns={'Unnamed: 0':'model'})\n",
    "df.index = df.model\n",
    "df.drop(columns='model', inplace=True)\n",
    "df.head()"
   ]
  },
  {
   "cell_type": "code",
   "execution_count": 3,
   "id": "b11bd576",
   "metadata": {},
   "outputs": [
    {
     "data": {
      "text/plain": [
       "mpg      20.090625\n",
       "cyl       6.187500\n",
       "disp    230.721875\n",
       "hp      146.687500\n",
       "drat      3.596563\n",
       "wt        3.217250\n",
       "qsec     17.848750\n",
       "vs        0.437500\n",
       "am        0.406250\n",
       "gear      3.687500\n",
       "carb      2.812500\n",
       "dtype: float64"
      ]
     },
     "execution_count": 3,
     "metadata": {},
     "output_type": "execute_result"
    }
   ],
   "source": [
    "df.mean() # mean(axis=1) to calculate the mean of values in a row"
   ]
  },
  {
   "cell_type": "markdown",
   "id": "0c4e1439",
   "metadata": {},
   "source": [
    "The median of a distribution is the value where 50% of the data lies below it and 50% lies above it. In essence, the median splits the data in half. The median is also known as the 50% percentile since 50% of the observations are found below it. As we've seen previously, you can get the median using the df.median() function:"
   ]
  },
  {
   "cell_type": "code",
   "execution_count": 4,
   "id": "d2fdfa05",
   "metadata": {},
   "outputs": [
    {
     "data": {
      "text/plain": [
       "mpg      19.200\n",
       "cyl       6.000\n",
       "disp    196.300\n",
       "hp      123.000\n",
       "drat      3.695\n",
       "wt        3.325\n",
       "qsec     17.710\n",
       "vs        0.000\n",
       "am        0.000\n",
       "gear      4.000\n",
       "carb      2.000\n",
       "dtype: float64"
      ]
     },
     "execution_count": 4,
     "metadata": {},
     "output_type": "execute_result"
    }
   ],
   "source": [
    "df.median()"
   ]
  },
  {
   "cell_type": "code",
   "execution_count": 5,
   "id": "ef62b65e",
   "metadata": {},
   "outputs": [
    {
     "data": {
      "text/plain": [
       "19.2"
      ]
     },
     "execution_count": 5,
     "metadata": {},
     "output_type": "execute_result"
    }
   ],
   "source": [
    "df.median()['mpg']"
   ]
  },
  {
   "cell_type": "code",
   "execution_count": 6,
   "id": "f5c3ebd8",
   "metadata": {},
   "outputs": [
    {
     "name": "stdout",
     "output_type": "stream",
     "text": [
      "mpg --> 19.20\n",
      "cyl --> 6.00\n",
      "disp --> 196.30\n",
      "hp --> 123.00\n",
      "drat --> 3.70\n",
      "wt --> 3.33\n",
      "qsec --> 17.71\n",
      "vs --> 0.00\n",
      "am --> 0.00\n",
      "gear --> 4.00\n",
      "carb --> 2.00\n"
     ]
    }
   ],
   "source": [
    "for i in df.median().index:\n",
    "    print(f\"{i} --> {df.median()[i]:.2f}\")"
   ]
  },
  {
   "cell_type": "code",
   "execution_count": 7,
   "id": "a9484dbd",
   "metadata": {},
   "outputs": [],
   "source": [
    "for i in df.columns:\n",
    "    df[i].fillna(value=df[i].median(), inplace=True)"
   ]
  },
  {
   "cell_type": "markdown",
   "id": "d9affd28",
   "metadata": {},
   "source": [
    "#### Generating a normal distribution data and plotting mean and median"
   ]
  },
  {
   "cell_type": "code",
   "execution_count": 8,
   "id": "0f0ae8d5",
   "metadata": {},
   "outputs": [],
   "source": [
    "norm_dist = pd.DataFrame(np.random.normal(size=100000))"
   ]
  },
  {
   "cell_type": "code",
   "execution_count": 9,
   "id": "607f43c0",
   "metadata": {},
   "outputs": [],
   "source": [
    "#norm_dist.size"
   ]
  },
  {
   "cell_type": "code",
   "execution_count": 10,
   "id": "87c52577",
   "metadata": {},
   "outputs": [
    {
     "data": {
      "image/png": "[encoded data removed]",
      "text/plain": [
       "<Figure size 720x720 with 1 Axes>"
      ]
     },
     "metadata": {
      "needs_background": "light"
     },
     "output_type": "display_data"
    }
   ],
   "source": [
    "norm_dist.plot(kind='density', figsize=(10,10));\n",
    "\n",
    "plt.vlines(norm_dist.mean(),ymin=0,ymax=0.4,linewidth=5); # Black line for mean\n",
    "plt.vlines(norm_dist.median(),ymin=0,ymax=0.4,linewidth=2,color='red'); # median"
   ]
  },
  {
   "cell_type": "markdown",
   "id": "0f5e9a36",
   "metadata": {},
   "source": [
    "In skewed distributions, the mean tends to get pulled in the direction of the skew, while the median tends to resist the effects of skew:"
   ]
  },
  {
   "cell_type": "code",
   "execution_count": 11,
   "id": "1b448d60",
   "metadata": {},
   "outputs": [
    {
     "data": {
      "image/png": "[encoded data removed]",
      "text/plain": [
       "<Figure size 720x720 with 1 Axes>"
      ]
     },
     "metadata": {
      "needs_background": "light"
     },
     "output_type": "display_data"
    }
   ],
   "source": [
    "skewed_dist = pd.DataFrame(np.random.exponential(size=10000))\n",
    "\n",
    "skewed_dist.plot(kind='density',figsize=(10,10));\n",
    "\n",
    "plt.vlines(skewed_dist.mean(),ymin=0, ymax=0.75,linewidth=5); # blue line for mean\n",
    "plt.vlines(skewed_dist.median(), ymin=0, ymax=0.75, linewidth=2,color='red'); #median"
   ]
  },
  {
   "cell_type": "markdown",
   "id": "a3f65d4a",
   "metadata": {},
   "source": [
    "#### Measure of spread\n",
    "\n",
    "Measures of spread (dispersion) are statistics that describe how data varies. While measures of center give us an idea of the typical value, measures of spread give us a sense of how much the data tends to diverge from the typical value.\n",
    "\n",
    "One of the simplest measures of spread is the range. Range is the distance between the maximum and minimum observations:"
   ]
  },
  {
   "cell_type": "code",
   "execution_count": 12,
   "id": "745fa6a1",
   "metadata": {},
   "outputs": [
    {
     "data": {
      "text/plain": [
       "23.5"
      ]
     },
     "execution_count": 12,
     "metadata": {},
     "output_type": "execute_result"
    }
   ],
   "source": [
    "# Range\n",
    "\n",
    "df['mpg'].max() - df['mpg'].min()"
   ]
  },
  {
   "cell_type": "markdown",
   "id": "161ac158",
   "metadata": {},
   "source": [
    "As noted earlier, the median represents the 50th percentile of a data set. A summary of several percentiles can be used to describe a variable's spread. We can extract the minimum value (0th percentile), first quartile (25th percentile), median, third quartile(75th percentile) and maximum value (100th percentile) using the quantile() function:"
   ]
  },
  {
   "cell_type": "code",
   "execution_count": 13,
   "id": "0e9422db",
   "metadata": {},
   "outputs": [
    {
     "data": {
      "text/plain": [
       "[10.4, 15.425, 19.2, 22.8, 33.9]"
      ]
     },
     "execution_count": 13,
     "metadata": {},
     "output_type": "execute_result"
    }
   ],
   "source": [
    "# Five numbers of summary\n",
    "quantiles = [df['mpg'].quantile(0),\n",
    "             df['mpg'].quantile(0.25),\n",
    "             df['mpg'].quantile(0.5),\n",
    "             df['mpg'].quantile(0.75),\n",
    "             df['mpg'].quantile(1)\n",
    "            ]\n",
    "quantiles"
   ]
  },
  {
   "cell_type": "code",
   "execution_count": 14,
   "id": "8df3c263",
   "metadata": {},
   "outputs": [
    {
     "data": {
      "text/plain": [
       "count    32.000000\n",
       "mean     20.090625\n",
       "std       6.026948\n",
       "min      10.400000\n",
       "25%      15.425000\n",
       "50%      19.200000\n",
       "75%      22.800000\n",
       "max      33.900000\n",
       "Name: mpg, dtype: float64"
      ]
     },
     "execution_count": 14,
     "metadata": {},
     "output_type": "execute_result"
    }
   ],
   "source": [
    "df['mpg'].describe()"
   ]
  },
  {
   "cell_type": "markdown",
   "id": "3d3651e6",
   "metadata": {},
   "source": [
    "#### IQR\n",
    "Interquartile (IQR) range is another common measure of spread. IQR is the distance between the 3rd quartile and the 1st quartile"
   ]
  },
  {
   "cell_type": "code",
   "execution_count": 15,
   "id": "1872a87e",
   "metadata": {},
   "outputs": [
    {
     "data": {
      "text/plain": [
       "<AxesSubplot:>"
      ]
     },
     "execution_count": 15,
     "metadata": {},
     "output_type": "execute_result"
    },
    {
     "data": {
      "image/png": "[encoded data removed]",
      "text/plain": [
       "<Figure size 432x288 with 1 Axes>"
      ]
     },
     "metadata": {
      "needs_background": "light"
     },
     "output_type": "display_data"
    }
   ],
   "source": [
    "df.boxplot(column='mpg')"
   ]
  },
  {
   "cell_type": "markdown",
   "id": "961de80b",
   "metadata": {},
   "source": [
    "#### Variance and Standard Deviation\n",
    "\n",
    "Variance and standard deviation are two other common measures of spread. The variance of a distribution is the average of the squared deviations (differences) from the mean.\n",
    "\n",
    "The standard deviation is the square root of the variance. Standard deviation can be more interpretable than variance, since the standard deviation is expressed in terms of the same units as the variable in question while variance is expressed in terms of units squared"
   ]
  },
  {
   "cell_type": "code",
   "execution_count": 16,
   "id": "16f7d80c",
   "metadata": {},
   "outputs": [
    {
     "name": "stdout",
     "output_type": "stream",
     "text": [
      "Variance --> 36.32\n",
      "Standard deviation --> 6.03\n"
     ]
    }
   ],
   "source": [
    "var = df.mpg.var()\n",
    "std = df.mpg.std()\n",
    "print(f'Variance --> {var:0.2f}')\n",
    "print(f'Standard deviation --> {std:0.2f}')"
   ]
  },
  {
   "cell_type": "markdown",
   "id": "da208ee6",
   "metadata": {},
   "source": [
    "#### Skewness and Kurtosis\n",
    "\n",
    "Beyond measures of center and spread, descriptive statistics include measures that give you a sense of the shape of a distribution. Skewness measures the skew or asymmetry of a distribution while kurtosis measures how much data is in the tails of a distribution v.s. the center."
   ]
  },
  {
   "cell_type": "code",
   "execution_count": 17,
   "id": "77d75da5",
   "metadata": {},
   "outputs": [
    {
     "name": "stdout",
     "output_type": "stream",
     "text": [
      "Skewness  ---> 0.67\n",
      "Kurtosis  ---> -0.02\n"
     ]
    }
   ],
   "source": [
    "skewness = df['mpg'].skew()\n",
    "kurtosis = df['mpg'].kurt()\n",
    "\n",
    "print(f'Skewness  ---> {skewness:.2f}')\n",
    "print(f'Kurtosis  ---> {kurtosis:.2f}')"
   ]
  },
  {
   "cell_type": "code",
   "execution_count": 18,
   "id": "415221d6",
   "metadata": {},
   "outputs": [],
   "source": [
    "norm_data = np.random.normal(size=100000)\n",
    "skewed_data = np.concatenate((np.random.normal(size=35000)+2, \n",
    "                             np.random.exponential(size=65000)), \n",
    "                             axis=0)\n",
    "uniform_data = np.random.uniform(0,2, size=100000)\n",
    "peaked_data = np.concatenate((np.random.exponential(size=50000),\n",
    "                             np.random.exponential(size=50000)*(-1)),\n",
    "                             axis=0)\n",
    "\n",
    "data_df = pd.DataFrame({\"norm\":norm_data,\n",
    "                       \"skewed\":skewed_data,\n",
    "                       \"uniform\":uniform_data,\n",
    "                       \"peaked\":peaked_data})"
   ]
  },
  {
   "cell_type": "code",
   "execution_count": 19,
   "id": "94c0de57",
   "metadata": {
    "scrolled": true
   },
   "outputs": [
    {
     "data": {
      "image/png": "[encoded data removed]",
      "text/plain": [
       "<Figure size 720x720 with 1 Axes>"
      ]
     },
     "metadata": {
      "needs_background": "light"
     },
     "output_type": "display_data"
    }
   ],
   "source": [
    "data_df.plot(kind=\"density\",\n",
    "            figsize=(10,10),\n",
    "            xlim=(-5,5),ylim=(0,0.8));"
   ]
  },
  {
   "cell_type": "markdown",
   "id": "90705bb6",
   "metadata": {},
   "source": [
    "the normally distributed data has a kurtosis near zero, the flat distribution has negative kurtosis and the two distributions with more data in the tails vs the center have higher kurtosis."
   ]
  },
  {
   "cell_type": "markdown",
   "id": "38b0478c",
   "metadata": {},
   "source": [
    "#### Correlation between features"
   ]
  },
  {
   "cell_type": "code",
   "execution_count": 20,
   "id": "8d1d1050",
   "metadata": {},
   "outputs": [],
   "source": [
    "qty_purchased=[10, 20, 30, 40]\n",
    "discount=[15, 20, 35, 55]\n",
    "\n",
    "df = pd.DataFrame(qty_purchased,discount)\n",
    "\n",
    "df.plot(kind='scatter', xlabel='Discount in %', ylabel='Qty purchased', title='Correlation between Discount and Qty purchased');"
   ]
  },
  {
   "cell_type": "code",
   "execution_count": 21,
   "id": "01fa6525",
   "metadata": {},
   "outputs": [
    {
     "data": {
      "text/plain": [
       "<matplotlib.collections.PathCollection at 0x282e2edf5e0>"
      ]
     },
     "execution_count": 21,
     "metadata": {},
     "output_type": "execute_result"
    },
    {
     "data": {
      "image/png": "[encoded data removed]",
      "text/plain": [
       "<Figure size 432x288 with 1 Axes>"
      ]
     },
     "metadata": {
      "needs_background": "light"
     },
     "output_type": "display_data"
    }
   ],
   "source": [
    "qty_purchased=[10, 20, 30, 40]\n",
    "discount=[15, 20, 35, 55]\n",
    "\n",
    "plt.scatter(x=qty_purchased,y=discount)"
   ]
  },
  {
   "cell_type": "markdown",
   "id": "aebc2f5e",
   "metadata": {},
   "source": [
    "There is a positive correlation between % of discount and Qty purchased meaning as the discount increases, qty purchased by customer also increases"
   ]
  }
 ],
 "metadata": {
  "kernelspec": {
   "display_name": "Python 3",
   "language": "python",
   "name": "python3"
  },
  "language_info": {
   "codemirror_mode": {
    "name": "ipython",
    "version": 3
   },
   "file_extension": ".py",
   "mimetype": "text/x-python",
   "name": "python",
   "nbconvert_exporter": "python",
   "pygments_lexer": "ipython3",
   "version": "3.8.8"
  }
 },
 "nbformat": 4,
 "nbformat_minor": 5
}
